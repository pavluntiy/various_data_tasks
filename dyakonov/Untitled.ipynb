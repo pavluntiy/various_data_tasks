{
 "cells": [
  {
   "cell_type": "code",
   "execution_count": 158,
   "metadata": {
    "collapsed": true
   },
   "outputs": [],
   "source": [
    "import pandas as pd\n",
    "import sklearn as sk\n",
    "\n",
    "import numpy as np\n",
    "import sys\n",
    "\n",
    "from sklearn.metrics import mean_squared_error\n",
    "import matplotlib.pyplot as plt\n",
    "%matplotlib inline"
   ]
  },
  {
   "cell_type": "code",
   "execution_count": 467,
   "metadata": {
    "collapsed": false
   },
   "outputs": [],
   "source": [
    "train_x = pd.read_csv(\"./X.csv\")\n",
    "test_y = pd.read_csv(\"ans.csv\")"
   ]
  },
  {
   "cell_type": "code",
   "execution_count": 468,
   "metadata": {
    "collapsed": false
   },
   "outputs": [],
   "source": [
    "# train_x\n",
    "train_x[\"w_day\"] = train_x[\"day\"].apply(lambda x: x % 7)\n",
    "train_x[\"w_num\"] = train_x[\"day\"].apply(lambda x: x / 7)\n",
    "test_x = train_x[train_x[\"sum\"] == -1]\n",
    "train_x = train_x[train_x[\"sum\"] != -1]"
   ]
  },
  {
   "cell_type": "code",
   "execution_count": 469,
   "metadata": {
    "collapsed": true
   },
   "outputs": [],
   "source": [
    "def get_validation_set(train_x):\n",
    "    g = train_x.groupby(\"user\")\n",
    "    result = []\n",
    "    for key in g.groups:\n",
    "        result.append(g.groups[key][-1])\n",
    "#     print result[:10]\n",
    "    return train_x.loc[result]\n",
    "    "
   ]
  },
  {
   "cell_type": "code",
   "execution_count": 470,
   "metadata": {
    "collapsed": true
   },
   "outputs": [],
   "source": [
    "def get_train_set(train_x):\n",
    "    g = train_x.groupby(\"user\")\n",
    "    result = []\n",
    "    for key in g.groups:\n",
    "        result.append(g.groups[key][-1])\n",
    "#         result += g.groups[key][-1:-3:-1]\n",
    "#     print result\n",
    "    return train_x.drop(result)\n",
    "    "
   ]
  },
  {
   "cell_type": "code",
   "execution_count": 471,
   "metadata": {
    "collapsed": false
   },
   "outputs": [],
   "source": [
    "# tmp[tmp[\"user\"] == 1]\n"
   ]
  },
  {
   "cell_type": "code",
   "execution_count": 472,
   "metadata": {
    "collapsed": false
   },
   "outputs": [],
   "source": [
    "valid_x = get_validation_set(train_x)"
   ]
  },
  {
   "cell_type": "code",
   "execution_count": 473,
   "metadata": {
    "collapsed": false
   },
   "outputs": [],
   "source": [
    "valid_y = valid_x[\"sum\"].reset_index()"
   ]
  },
  {
   "cell_type": "code",
   "execution_count": 474,
   "metadata": {
    "collapsed": false
   },
   "outputs": [],
   "source": [
    "train_x = get_train_set(train_x)"
   ]
  },
  {
   "cell_type": "code",
   "execution_count": null,
   "metadata": {
    "collapsed": false
   },
   "outputs": [],
   "source": []
  },
  {
   "cell_type": "code",
   "execution_count": 475,
   "metadata": {
    "collapsed": false
   },
   "outputs": [],
   "source": [
    "def plot_specific(user, w_day):\n",
    "    tmp = train_x[train_x[\"user\"] == user][train_x[\"w_day\"] == w_day]\n",
    "    tmp = tmp[np.abs(tmp[\"sum\"] - means[(user, w_day)]) < 2 * variance[user]]\n",
    "    x = tmp[\"day\"]\n",
    "    y = tmp[\"sum\"]\n",
    "#     np.abs(y - means((user, w_day)))\n",
    "#     y = y[]\n",
    "   \n",
    "    plt.plot(x, y)"
   ]
  },
  {
   "cell_type": "code",
   "execution_count": 476,
   "metadata": {
    "collapsed": true
   },
   "outputs": [],
   "source": [
    "first = train_x[train_x[\"user\"] == 1]"
   ]
  },
  {
   "cell_type": "code",
   "execution_count": 477,
   "metadata": {
    "collapsed": false
   },
   "outputs": [],
   "source": [
    "def calc_budget(x, user):\n",
    "    cur = 0.0\n",
    "    result = []\n",
    "    prev = None\n",
    "    x = x[x[\"user\"] == user]\n",
    "#     print len(x)\n",
    "    for idx, row in x.iterrows():\n",
    "        if prev is None or row[\"w_day\"] <= prev:\n",
    "#             print idx, \"prev is \", prev, \" w_day = \", row[\"w_day\"]\n",
    "            result.append(cur)\n",
    "            cur = 0.0\n",
    "        prev = row[\"w_day\"]\n",
    "        cur += row[\"sum\"]\n",
    "#         print prev\n",
    "        \n",
    "    return result\n",
    "    "
   ]
  },
  {
   "cell_type": "code",
   "execution_count": 478,
   "metadata": {
    "collapsed": false
   },
   "outputs": [],
   "source": [
    "# # first\n",
    "# res = calc_budget(train_x, 8)\n",
    "# # print res\n",
    "# # print np.mean(res)\n",
    "# plt.plot(res)\n",
    "# # print variance[1]\n"
   ]
  },
  {
   "cell_type": "code",
   "execution_count": 479,
   "metadata": {
    "collapsed": false
   },
   "outputs": [],
   "source": [
    "# plot_specific(1, 1)"
   ]
  },
  {
   "cell_type": "code",
   "execution_count": 480,
   "metadata": {
    "collapsed": false
   },
   "outputs": [],
   "source": [
    "# plot_specific(1, 2)"
   ]
  },
  {
   "cell_type": "code",
   "execution_count": 481,
   "metadata": {
    "collapsed": false
   },
   "outputs": [],
   "source": [
    "# plot_specific(1, 3)"
   ]
  },
  {
   "cell_type": "code",
   "execution_count": 482,
   "metadata": {
    "collapsed": false
   },
   "outputs": [],
   "source": [
    "# plot_specific(1, 4)"
   ]
  },
  {
   "cell_type": "code",
   "execution_count": 483,
   "metadata": {
    "collapsed": false
   },
   "outputs": [],
   "source": [
    "# plot_specific(0, 5)"
   ]
  },
  {
   "cell_type": "code",
   "execution_count": 484,
   "metadata": {
    "collapsed": false
   },
   "outputs": [],
   "source": [
    "# plot_specific(0, 6)"
   ]
  },
  {
   "cell_type": "code",
   "execution_count": 485,
   "metadata": {
    "collapsed": false
   },
   "outputs": [],
   "source": [
    "# user_groups[\"sum\"].hist()"
   ]
  },
  {
   "cell_type": "code",
   "execution_count": 486,
   "metadata": {
    "collapsed": false
   },
   "outputs": [],
   "source": [
    "# valid_y"
   ]
  },
  {
   "cell_type": "code",
   "execution_count": 487,
   "metadata": {
    "collapsed": false
   },
   "outputs": [],
   "source": [
    "groups = train_x.groupby([\"user\", \"w_day\"])\n"
   ]
  },
  {
   "cell_type": "code",
   "execution_count": 488,
   "metadata": {
    "collapsed": false
   },
   "outputs": [],
   "source": [
    "# groups.groups.keys()[0]\n",
    "# def print_metrics(key):\n",
    "#     print means_sparse[key]\n",
    "#     print means[key]\n",
    "#     print variance[key[0]]\n",
    "#     print train_x.loc[groups.groups[key], \"sum\"].mean()\n",
    "#     print train_x.loc[groups.groups[key], \"sum\"].max()\n",
    "#     print train_x.loc[groups.groups[key], \"sum\"].min()\n",
    "#     plt.plot(train_x.loc[groups.groups[key], \"sum\"])"
   ]
  },
  {
   "cell_type": "code",
   "execution_count": 489,
   "metadata": {
    "collapsed": false
   },
   "outputs": [],
   "source": [
    "# print_metrics((320, 6))"
   ]
  },
  {
   "cell_type": "code",
   "execution_count": 490,
   "metadata": {
    "collapsed": true
   },
   "outputs": [],
   "source": [
    "weak_groups = train_x.groupby([\"user\", \"w_num\"])"
   ]
  },
  {
   "cell_type": "code",
   "execution_count": 491,
   "metadata": {
    "collapsed": true
   },
   "outputs": [],
   "source": [
    "weak_means = {}\n",
    "def get_weak_means(x):\n",
    "    key = (x[\"user\"].iloc[0], x[\"w_num\"].iloc[0])\n",
    "    m = x[\"sum\"].mean()\n",
    "    weak_means[key] = m\n",
    "    sys.stdout.write(\"\\r{0}\".format(x[\"user\"].iloc[0]))\n",
    "    return m\n",
    "    "
   ]
  },
  {
   "cell_type": "code",
   "execution_count": 492,
   "metadata": {
    "collapsed": false
   },
   "outputs": [],
   "source": [
    "# weak_groups.apply(get_weak_means)"
   ]
  },
  {
   "cell_type": "code",
   "execution_count": 493,
   "metadata": {
    "collapsed": false
   },
   "outputs": [],
   "source": [
    "# weak_groups[(1,1)]"
   ]
  },
  {
   "cell_type": "code",
   "execution_count": 494,
   "metadata": {
    "collapsed": true
   },
   "outputs": [],
   "source": [
    "lasts_dict = {}\n",
    "def get_lasts(x):\n",
    "#     print x\n",
    "    \n",
    "    key = (x[\"user\"].iloc[0], x[\"w_day\"].iloc[0])\n",
    "    m = x[\"sum\"].iloc[:5].mean()\n",
    "    sys.stdout.write(\"\\r{0} -> {1}\".format(key, m))\n",
    "    lasts_dict[key] = m\n",
    "#     print m\n",
    "#     raise ValueError()\n",
    "    return m\n"
   ]
  },
  {
   "cell_type": "code",
   "execution_count": 495,
   "metadata": {
    "collapsed": false
   },
   "outputs": [],
   "source": [
    "# groups.apply(get_lasts);"
   ]
  },
  {
   "cell_type": "code",
   "execution_count": 496,
   "metadata": {
    "collapsed": true
   },
   "outputs": [],
   "source": [
    "user_groups  = train_x.groupby([\"user\"])"
   ]
  },
  {
   "cell_type": "code",
   "execution_count": 497,
   "metadata": {
    "collapsed": true
   },
   "outputs": [],
   "source": [
    "all_day_last = {}\n",
    "def get_all_day_last(x):\n",
    "    key = x[\"user\"].iloc[0]\n",
    "#     print key\n",
    "    all_day_last[key] = x[\"sum\"].iloc[:7].mean()\n",
    "    sys.stdout.write(\"\\r{0}\".format(key))\n",
    "    return 0.0\n",
    "    "
   ]
  },
  {
   "cell_type": "code",
   "execution_count": 498,
   "metadata": {
    "collapsed": false
   },
   "outputs": [
    {
     "name": "stdout",
     "output_type": "stream",
     "text": [
      "82445"
     ]
    }
   ],
   "source": [
    "user_groups.apply(get_all_day_last);"
   ]
  },
  {
   "cell_type": "code",
   "execution_count": 499,
   "metadata": {
    "collapsed": false
   },
   "outputs": [],
   "source": [
    "# all_day_last[3]"
   ]
  },
  {
   "cell_type": "code",
   "execution_count": 500,
   "metadata": {
    "collapsed": false
   },
   "outputs": [],
   "source": [
    "# print lasts_dict[(1, 0)]\n",
    "# print means[(1, 0)]"
   ]
  },
  {
   "cell_type": "code",
   "execution_count": 501,
   "metadata": {
    "collapsed": true
   },
   "outputs": [],
   "source": [
    "# def get_lasts_dict(train_x, groups):\n",
    "#     res = dict()\n",
    "#     for key, items in groups.groups.iteritems():\n",
    "#         sys.stdout.write(\"\\r{0}\".format(key))\n",
    "# #         print items\n",
    "#         res[key] = train_x.loc[items][\"sum\"].mean()\n",
    "# #         print res[key]\n",
    "# #         break\n",
    "#     return res\n",
    "        \n",
    "        "
   ]
  },
  {
   "cell_type": "code",
   "execution_count": 502,
   "metadata": {
    "collapsed": true
   },
   "outputs": [],
   "source": [
    "variance = {}\n",
    "means_user = {}\n",
    "means_user_sparse = {}\n",
    "def get_variance(x):\n",
    "    key = x[\"user\"].iloc[0]\n",
    "#     print key\n",
    "    cur = x[\"sum\"]\n",
    "    m = cur.mean()\n",
    "    means_user[key] = m\n",
    "    var = (((cur - m)**2).mean())**0.5\n",
    "    sys.stdout.write(\"\\r{0}\".format(key))\n",
    "    variance[key] = var\n",
    "    means_user_sparse[key] = cur[np.abs(cur - m) < variance[key]].mean()\n",
    "    return 0.0\n",
    "        "
   ]
  },
  {
   "cell_type": "code",
   "execution_count": 503,
   "metadata": {
    "collapsed": false
   },
   "outputs": [
    {
     "name": "stdout",
     "output_type": "stream",
     "text": [
      "82445"
     ]
    }
   ],
   "source": [
    "user_groups.apply(get_variance);"
   ]
  },
  {
   "cell_type": "code",
   "execution_count": 504,
   "metadata": {
    "collapsed": true
   },
   "outputs": [],
   "source": [
    "# from sklearn.neighbors import KernelDensity"
   ]
  },
  {
   "cell_type": "code",
   "execution_count": 505,
   "metadata": {
    "collapsed": true
   },
   "outputs": [],
   "source": [
    "# kde = KernelDensity()"
   ]
  },
  {
   "cell_type": "code",
   "execution_count": 506,
   "metadata": {
    "collapsed": false
   },
   "outputs": [],
   "source": [
    "# kde.fit(train_x.loc[:, \"sum\"])"
   ]
  },
  {
   "cell_type": "code",
   "execution_count": 507,
   "metadata": {
    "collapsed": false
   },
   "outputs": [],
   "source": [
    "# kde.mean()"
   ]
  },
  {
   "cell_type": "code",
   "execution_count": 508,
   "metadata": {
    "collapsed": false
   },
   "outputs": [],
   "source": [
    "# variance\n",
    "def get_mean(x):\n",
    "    key = x[\"user\"].iloc[0]\n",
    "    cur = x[\"sum\"]\n",
    "    m = cur.mean()\n",
    "    \n",
    "    sys.stdout.write(\"\\r{0}\".format(key))\n",
    "    cur = cur[np.abs(cur - m) < 2 * variance[key]]\n",
    "    m = cur.mean()\n",
    "    \n",
    "    if np.isnan(m) or len(cur) < 3:\n",
    "        m = x[\"sum\"].mean()\n",
    "#     t_mean[key] = m\n",
    "    return m\n",
    "    "
   ]
  },
  {
   "cell_type": "code",
   "execution_count": 509,
   "metadata": {
    "collapsed": false
   },
   "outputs": [
    {
     "name": "stdout",
     "output_type": "stream",
     "text": [
      "82445"
     ]
    }
   ],
   "source": [
    "means_sparse = groups.apply(get_mean)\n",
    "means = groups[\"sum\"].mean()"
   ]
  },
  {
   "cell_type": "code",
   "execution_count": 510,
   "metadata": {
    "collapsed": false
   },
   "outputs": [],
   "source": [
    "# len(means_user.keys())"
   ]
  },
  {
   "cell_type": "code",
   "execution_count": 511,
   "metadata": {
    "collapsed": false
   },
   "outputs": [
    {
     "data": {
      "text/plain": [
       "535.85714285714289"
      ]
     },
     "execution_count": 511,
     "metadata": {},
     "output_type": "execute_result"
    }
   ],
   "source": [
    "all_day_last[2]"
   ]
  },
  {
   "cell_type": "code",
   "execution_count": 512,
   "metadata": {
    "collapsed": true
   },
   "outputs": [],
   "source": [
    "g_mean = {}\n",
    "l_mean = {}\n",
    "t_mean = {}\n",
    "\n",
    "def get_av_lmean(x):\n",
    "    key = x[\"user\"].iloc[0]\n",
    "    cur = x[\"sum\"]\n",
    "    m = cur.mean()\n",
    "    cur = cur[np.abs(cur - m) < 2 * variance[key]]\n",
    "    \n",
    "    l = cur[cur < m].mean()\n",
    "    g = cur[cur >= m].mean()\n",
    "    sys.stdout.write(\"\\r{0}\".format(key))\n",
    "    if len(cur) < 3:\n",
    "        g = x[\"sum\"].mean()\n",
    "        l = x[\"sum\"].mean()\n",
    "        m = x[\"sum\"].mean()\n",
    "        \n",
    "    g_mean[key] = g\n",
    "    l_mean[key] = l\n",
    "    t_mean[key] = m\n",
    "    \n",
    "    return 0.0"
   ]
  },
  {
   "cell_type": "code",
   "execution_count": 513,
   "metadata": {
    "collapsed": false
   },
   "outputs": [
    {
     "name": "stdout",
     "output_type": "stream",
     "text": [
      "82445"
     ]
    }
   ],
   "source": [
    "user_groups.apply(get_av_lmean);"
   ]
  },
  {
   "cell_type": "code",
   "execution_count": 514,
   "metadata": {
    "collapsed": false
   },
   "outputs": [],
   "source": [
    "# l_mean "
   ]
  },
  {
   "cell_type": "code",
   "execution_count": 527,
   "metadata": {
    "collapsed": false
   },
   "outputs": [],
   "source": [
    "def mean_getter(x):\n",
    "    sys.stdout.write(\"\\r{0}\".format(x[\"user\"]))\n",
    "    key = (x[\"user\"], x[\"w_day\"])\n",
    "    user = x[\"user\"]\n",
    "    week = x[\"w_num\"]\n",
    "#     print user\n",
    "    mean = means_sparse.get(key, means_user[x[\"user\"]])\n",
    "#     mean = means.get(key, means_user[x[\"user\"]])\n",
    "    last_m = all_day_last.get(user, mean)\n",
    "    week_1 = weak_means.get((user, week - 1), mean)\n",
    "    week_2 = weak_means.get((user, week - 2), mean)\n",
    "    week_3 = weak_means.get((user, week - 3), mean)\n",
    "    week_4 = weak_means.get((user, week - 4), mean)\n",
    "    week_5 = weak_means.get((user, week - 5), mean)\n",
    "    week_m = (week_1 + week_2 + week_3 + week_4 + week_5)/5\n",
    "#     print valid_x[valid_x[\"user\"] == x[\"user\"]][\"sum\"].shape\n",
    "#     print \n",
    "#     last_m = train_x.loc[user_groups.groups[user][-1:-7:-1]].mean()\n",
    "    \n",
    "#     print last\n",
    "#     if last[\"sum\"] < mean:\n",
    "#         mean = (mean + g_mean[x[\"user\"]])/2\n",
    "#     else:\n",
    "#         mean = (mean + l_mean[x[\"user\"]])/2\n",
    "#     last = lasts_dict.get(key, 0.0)\n",
    "#     median = medians.get(key, 0.0)\n",
    "#     day_last = all_day_last.get(x[\"user\"], 0.0)\n",
    "    return  mean\n",
    "#     return  mean * 1.0\n",
    "#     return  last_m * 1.0\n",
    "    "
   ]
  },
  {
   "cell_type": "code",
   "execution_count": 528,
   "metadata": {
    "collapsed": true
   },
   "outputs": [],
   "source": [
    "def validate(valid_x, valid_y):\n",
    "    l = predict(valid_x)\n",
    "    print \"\\r\", np.abs(valid_y[\"sum\"] - l).mean()"
   ]
  },
  {
   "cell_type": "code",
   "execution_count": 529,
   "metadata": {
    "collapsed": true
   },
   "outputs": [],
   "source": [
    "def predict(df):\n",
    "    return df.apply(mean_getter , axis = 1).reset_index()[0]"
   ]
  },
  {
   "cell_type": "code",
   "execution_count": 530,
   "metadata": {
    "collapsed": false
   },
   "outputs": [
    {
     "name": "stdout",
     "output_type": "stream",
     "text": [
      "82445"
     ]
    }
   ],
   "source": [
    "res = predict(test_x)"
   ]
  },
  {
   "cell_type": "code",
   "execution_count": 531,
   "metadata": {
    "collapsed": false
   },
   "outputs": [],
   "source": [
    "# res"
   ]
  },
  {
   "cell_type": "code",
   "execution_count": 532,
   "metadata": {
    "collapsed": false
   },
   "outputs": [
    {
     "name": "stdout",
     "output_type": "stream",
     "text": [
      "251.746692007\n"
     ]
    }
   ],
   "source": [
    "validate(valid_x, valid_y)"
   ]
  },
  {
   "cell_type": "code",
   "execution_count": 533,
   "metadata": {
    "collapsed": false
   },
   "outputs": [],
   "source": [
    "ans = test_y.copy()"
   ]
  },
  {
   "cell_type": "code",
   "execution_count": 534,
   "metadata": {
    "collapsed": false
   },
   "outputs": [],
   "source": [
    "ans[\"sum\"] = res"
   ]
  },
  {
   "cell_type": "code",
   "execution_count": 535,
   "metadata": {
    "collapsed": false
   },
   "outputs": [],
   "source": [
    "# res\n",
    "# prev_ans\n",
    "# ans\n",
    "# ans.loc[1953]\n",
    "# l_mean[1]\n",
    "# means_sparse[1]"
   ]
  },
  {
   "cell_type": "code",
   "execution_count": 536,
   "metadata": {
    "collapsed": false
   },
   "outputs": [
    {
     "data": {
      "text/plain": [
       "False    82445\n",
       "dtype: int64"
      ]
     },
     "execution_count": 536,
     "metadata": {},
     "output_type": "execute_result"
    }
   ],
   "source": [
    "ans.to_csv(\"result.csv\", index=False)\n",
    "(np.isnan(res)).value_counts()"
   ]
  },
  {
   "cell_type": "code",
   "execution_count": 525,
   "metadata": {
    "collapsed": true
   },
   "outputs": [],
   "source": [
    "# ?prev_ans = pd.read_csv(\"result.csv\")\n",
    "# prev_ans = ans"
   ]
  },
  {
   "cell_type": "code",
   "execution_count": 418,
   "metadata": {
    "collapsed": false
   },
   "outputs": [],
   "source": [
    "# (ans - prev_ans)[\"sum\"].abs().mean()"
   ]
  },
  {
   "cell_type": "code",
   "execution_count": 419,
   "metadata": {
    "collapsed": false
   },
   "outputs": [],
   "source": [
    "# (ans - prev_ans)[\"sum\"]"
   ]
  },
  {
   "cell_type": "code",
   "execution_count": 420,
   "metadata": {
    "collapsed": false
   },
   "outputs": [
    {
     "data": {
      "text/html": [
       "<div style=\"max-height:1000px;max-width:1500px;overflow:auto;\">\n",
       "<table border=\"1\" class=\"dataframe\">\n",
       "  <thead>\n",
       "    <tr style=\"text-align: right;\">\n",
       "      <th></th>\n",
       "      <th>user</th>\n",
       "      <th>sum</th>\n",
       "    </tr>\n",
       "  </thead>\n",
       "  <tbody>\n",
       "    <tr>\n",
       "      <th>0    </th>\n",
       "      <td>     1</td>\n",
       "      <td>  411.833333</td>\n",
       "    </tr>\n",
       "    <tr>\n",
       "      <th>1    </th>\n",
       "      <td>     2</td>\n",
       "      <td>  144.571429</td>\n",
       "    </tr>\n",
       "    <tr>\n",
       "      <th>2    </th>\n",
       "      <td>     3</td>\n",
       "      <td>  660.666667</td>\n",
       "    </tr>\n",
       "    <tr>\n",
       "      <th>3    </th>\n",
       "      <td>     4</td>\n",
       "      <td>  514.000000</td>\n",
       "    </tr>\n",
       "    <tr>\n",
       "      <th>4    </th>\n",
       "      <td>     5</td>\n",
       "      <td>  334.083333</td>\n",
       "    </tr>\n",
       "    <tr>\n",
       "      <th>5    </th>\n",
       "      <td>     6</td>\n",
       "      <td>  558.500000</td>\n",
       "    </tr>\n",
       "    <tr>\n",
       "      <th>6    </th>\n",
       "      <td>     7</td>\n",
       "      <td>  673.222222</td>\n",
       "    </tr>\n",
       "    <tr>\n",
       "      <th>7    </th>\n",
       "      <td>     8</td>\n",
       "      <td>  376.783333</td>\n",
       "    </tr>\n",
       "    <tr>\n",
       "      <th>8    </th>\n",
       "      <td>     9</td>\n",
       "      <td>  411.833333</td>\n",
       "    </tr>\n",
       "    <tr>\n",
       "      <th>9    </th>\n",
       "      <td>    10</td>\n",
       "      <td>  571.500000</td>\n",
       "    </tr>\n",
       "    <tr>\n",
       "      <th>10   </th>\n",
       "      <td>    11</td>\n",
       "      <td>  545.590909</td>\n",
       "    </tr>\n",
       "    <tr>\n",
       "      <th>11   </th>\n",
       "      <td>    12</td>\n",
       "      <td>  291.500000</td>\n",
       "    </tr>\n",
       "    <tr>\n",
       "      <th>12   </th>\n",
       "      <td>    13</td>\n",
       "      <td>  429.500000</td>\n",
       "    </tr>\n",
       "    <tr>\n",
       "      <th>13   </th>\n",
       "      <td>    14</td>\n",
       "      <td>  945.055556</td>\n",
       "    </tr>\n",
       "    <tr>\n",
       "      <th>14   </th>\n",
       "      <td>    15</td>\n",
       "      <td>  197.500000</td>\n",
       "    </tr>\n",
       "    <tr>\n",
       "      <th>15   </th>\n",
       "      <td>    16</td>\n",
       "      <td>  292.416667</td>\n",
       "    </tr>\n",
       "    <tr>\n",
       "      <th>16   </th>\n",
       "      <td>    17</td>\n",
       "      <td> 1535.000000</td>\n",
       "    </tr>\n",
       "    <tr>\n",
       "      <th>17   </th>\n",
       "      <td>    18</td>\n",
       "      <td>  710.027027</td>\n",
       "    </tr>\n",
       "    <tr>\n",
       "      <th>18   </th>\n",
       "      <td>    19</td>\n",
       "      <td>  669.300000</td>\n",
       "    </tr>\n",
       "    <tr>\n",
       "      <th>19   </th>\n",
       "      <td>    20</td>\n",
       "      <td> 1029.500000</td>\n",
       "    </tr>\n",
       "    <tr>\n",
       "      <th>20   </th>\n",
       "      <td>    21</td>\n",
       "      <td>  392.000000</td>\n",
       "    </tr>\n",
       "    <tr>\n",
       "      <th>21   </th>\n",
       "      <td>    22</td>\n",
       "      <td>  108.000000</td>\n",
       "    </tr>\n",
       "    <tr>\n",
       "      <th>22   </th>\n",
       "      <td>    23</td>\n",
       "      <td>  641.375000</td>\n",
       "    </tr>\n",
       "    <tr>\n",
       "      <th>23   </th>\n",
       "      <td>    24</td>\n",
       "      <td>  202.500000</td>\n",
       "    </tr>\n",
       "    <tr>\n",
       "      <th>24   </th>\n",
       "      <td>    25</td>\n",
       "      <td>  287.750000</td>\n",
       "    </tr>\n",
       "    <tr>\n",
       "      <th>25   </th>\n",
       "      <td>    26</td>\n",
       "      <td>  865.500000</td>\n",
       "    </tr>\n",
       "    <tr>\n",
       "      <th>26   </th>\n",
       "      <td>    27</td>\n",
       "      <td>  568.500000</td>\n",
       "    </tr>\n",
       "    <tr>\n",
       "      <th>27   </th>\n",
       "      <td>    28</td>\n",
       "      <td>  349.000000</td>\n",
       "    </tr>\n",
       "    <tr>\n",
       "      <th>28   </th>\n",
       "      <td>    29</td>\n",
       "      <td>  110.428571</td>\n",
       "    </tr>\n",
       "    <tr>\n",
       "      <th>29   </th>\n",
       "      <td>    30</td>\n",
       "      <td>  455.666667</td>\n",
       "    </tr>\n",
       "    <tr>\n",
       "      <th>...</th>\n",
       "      <td>...</td>\n",
       "      <td>...</td>\n",
       "    </tr>\n",
       "    <tr>\n",
       "      <th>82415</th>\n",
       "      <td> 82416</td>\n",
       "      <td>  508.333333</td>\n",
       "    </tr>\n",
       "    <tr>\n",
       "      <th>82416</th>\n",
       "      <td> 82417</td>\n",
       "      <td>  228.500000</td>\n",
       "    </tr>\n",
       "    <tr>\n",
       "      <th>82417</th>\n",
       "      <td> 82418</td>\n",
       "      <td>  323.333333</td>\n",
       "    </tr>\n",
       "    <tr>\n",
       "      <th>82418</th>\n",
       "      <td> 82419</td>\n",
       "      <td>  558.375000</td>\n",
       "    </tr>\n",
       "    <tr>\n",
       "      <th>82419</th>\n",
       "      <td> 82420</td>\n",
       "      <td>  207.500000</td>\n",
       "    </tr>\n",
       "    <tr>\n",
       "      <th>82420</th>\n",
       "      <td> 82421</td>\n",
       "      <td>  903.666667</td>\n",
       "    </tr>\n",
       "    <tr>\n",
       "      <th>82421</th>\n",
       "      <td> 82422</td>\n",
       "      <td>  389.937500</td>\n",
       "    </tr>\n",
       "    <tr>\n",
       "      <th>82422</th>\n",
       "      <td> 82423</td>\n",
       "      <td>  141.416667</td>\n",
       "    </tr>\n",
       "    <tr>\n",
       "      <th>82423</th>\n",
       "      <td> 82424</td>\n",
       "      <td>  417.250000</td>\n",
       "    </tr>\n",
       "    <tr>\n",
       "      <th>82424</th>\n",
       "      <td> 82425</td>\n",
       "      <td>  793.104651</td>\n",
       "    </tr>\n",
       "    <tr>\n",
       "      <th>82425</th>\n",
       "      <td> 82426</td>\n",
       "      <td>  661.250000</td>\n",
       "    </tr>\n",
       "    <tr>\n",
       "      <th>82426</th>\n",
       "      <td> 82427</td>\n",
       "      <td>  309.000000</td>\n",
       "    </tr>\n",
       "    <tr>\n",
       "      <th>82427</th>\n",
       "      <td> 82428</td>\n",
       "      <td>  533.446429</td>\n",
       "    </tr>\n",
       "    <tr>\n",
       "      <th>82428</th>\n",
       "      <td> 82429</td>\n",
       "      <td>  560.500000</td>\n",
       "    </tr>\n",
       "    <tr>\n",
       "      <th>82429</th>\n",
       "      <td> 82430</td>\n",
       "      <td>  491.250000</td>\n",
       "    </tr>\n",
       "    <tr>\n",
       "      <th>82430</th>\n",
       "      <td> 82431</td>\n",
       "      <td>  212.250000</td>\n",
       "    </tr>\n",
       "    <tr>\n",
       "      <th>82431</th>\n",
       "      <td> 82432</td>\n",
       "      <td>  419.730769</td>\n",
       "    </tr>\n",
       "    <tr>\n",
       "      <th>82432</th>\n",
       "      <td> 82433</td>\n",
       "      <td>  340.750000</td>\n",
       "    </tr>\n",
       "    <tr>\n",
       "      <th>82433</th>\n",
       "      <td> 82434</td>\n",
       "      <td>  392.125000</td>\n",
       "    </tr>\n",
       "    <tr>\n",
       "      <th>82434</th>\n",
       "      <td> 82435</td>\n",
       "      <td>  307.750000</td>\n",
       "    </tr>\n",
       "    <tr>\n",
       "      <th>82435</th>\n",
       "      <td> 82436</td>\n",
       "      <td>  663.500000</td>\n",
       "    </tr>\n",
       "    <tr>\n",
       "      <th>82436</th>\n",
       "      <td> 82437</td>\n",
       "      <td>  313.500000</td>\n",
       "    </tr>\n",
       "    <tr>\n",
       "      <th>82437</th>\n",
       "      <td> 82438</td>\n",
       "      <td>  621.090000</td>\n",
       "    </tr>\n",
       "    <tr>\n",
       "      <th>82438</th>\n",
       "      <td> 82439</td>\n",
       "      <td> 1107.095238</td>\n",
       "    </tr>\n",
       "    <tr>\n",
       "      <th>82439</th>\n",
       "      <td> 82440</td>\n",
       "      <td>  148.000000</td>\n",
       "    </tr>\n",
       "    <tr>\n",
       "      <th>82440</th>\n",
       "      <td> 82441</td>\n",
       "      <td>  421.923077</td>\n",
       "    </tr>\n",
       "    <tr>\n",
       "      <th>82441</th>\n",
       "      <td> 82442</td>\n",
       "      <td>  429.000000</td>\n",
       "    </tr>\n",
       "    <tr>\n",
       "      <th>82442</th>\n",
       "      <td> 82443</td>\n",
       "      <td>  330.000000</td>\n",
       "    </tr>\n",
       "    <tr>\n",
       "      <th>82443</th>\n",
       "      <td> 82444</td>\n",
       "      <td>  645.000000</td>\n",
       "    </tr>\n",
       "    <tr>\n",
       "      <th>82444</th>\n",
       "      <td> 82445</td>\n",
       "      <td>  973.785714</td>\n",
       "    </tr>\n",
       "  </tbody>\n",
       "</table>\n",
       "<p>82445 rows × 2 columns</p>\n",
       "</div>"
      ],
      "text/plain": [
       "        user          sum\n",
       "0          1   411.833333\n",
       "1          2   144.571429\n",
       "2          3   660.666667\n",
       "3          4   514.000000\n",
       "4          5   334.083333\n",
       "5          6   558.500000\n",
       "6          7   673.222222\n",
       "7          8   376.783333\n",
       "8          9   411.833333\n",
       "9         10   571.500000\n",
       "10        11   545.590909\n",
       "11        12   291.500000\n",
       "12        13   429.500000\n",
       "13        14   945.055556\n",
       "14        15   197.500000\n",
       "15        16   292.416667\n",
       "16        17  1535.000000\n",
       "17        18   710.027027\n",
       "18        19   669.300000\n",
       "19        20  1029.500000\n",
       "20        21   392.000000\n",
       "21        22   108.000000\n",
       "22        23   641.375000\n",
       "23        24   202.500000\n",
       "24        25   287.750000\n",
       "25        26   865.500000\n",
       "26        27   568.500000\n",
       "27        28   349.000000\n",
       "28        29   110.428571\n",
       "29        30   455.666667\n",
       "...      ...          ...\n",
       "82415  82416   508.333333\n",
       "82416  82417   228.500000\n",
       "82417  82418   323.333333\n",
       "82418  82419   558.375000\n",
       "82419  82420   207.500000\n",
       "82420  82421   903.666667\n",
       "82421  82422   389.937500\n",
       "82422  82423   141.416667\n",
       "82423  82424   417.250000\n",
       "82424  82425   793.104651\n",
       "82425  82426   661.250000\n",
       "82426  82427   309.000000\n",
       "82427  82428   533.446429\n",
       "82428  82429   560.500000\n",
       "82429  82430   491.250000\n",
       "82430  82431   212.250000\n",
       "82431  82432   419.730769\n",
       "82432  82433   340.750000\n",
       "82433  82434   392.125000\n",
       "82434  82435   307.750000\n",
       "82435  82436   663.500000\n",
       "82436  82437   313.500000\n",
       "82437  82438   621.090000\n",
       "82438  82439  1107.095238\n",
       "82439  82440   148.000000\n",
       "82440  82441   421.923077\n",
       "82441  82442   429.000000\n",
       "82442  82443   330.000000\n",
       "82443  82444   645.000000\n",
       "82444  82445   973.785714\n",
       "\n",
       "[82445 rows x 2 columns]"
      ]
     },
     "execution_count": 420,
     "metadata": {},
     "output_type": "execute_result"
    }
   ],
   "source": [
    "ans"
   ]
  },
  {
   "cell_type": "code",
   "execution_count": 476,
   "metadata": {
    "collapsed": false
   },
   "outputs": [],
   "source": [
    "# prev_ans"
   ]
  },
  {
   "cell_type": "code",
   "execution_count": null,
   "metadata": {
    "collapsed": true
   },
   "outputs": [],
   "source": []
  }
 ],
 "metadata": {
  "kernelspec": {
   "display_name": "Python [Root]",
   "language": "python",
   "name": "Python [Root]"
  },
  "language_info": {
   "codemirror_mode": {
    "name": "ipython",
    "version": 2
   },
   "file_extension": ".py",
   "mimetype": "text/x-python",
   "name": "python",
   "nbconvert_exporter": "python",
   "pygments_lexer": "ipython2",
   "version": "2.7.11"
  }
 },
 "nbformat": 4,
 "nbformat_minor": 0
}
